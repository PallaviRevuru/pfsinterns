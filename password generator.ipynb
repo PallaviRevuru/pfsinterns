{
 "cells": [
  {
   "cell_type": "code",
   "execution_count": null,
   "id": "13dc1672-f5e8-40fb-a6cc-d854db2c866b",
   "metadata": {},
   "outputs": [
    {
     "name": "stdin",
     "output_type": "stream",
     "text": [
      "Enter password length:  10\n"
     ]
    },
    {
     "name": "stdout",
     "output_type": "stream",
     "text": [
      "Choose character set for password from these : \n",
      "\t\t1. Digits\n",
      "\t\t2. Letters\n",
      "\t\t3. Special characters\n",
      "\t\t4. Exit\n"
     ]
    },
    {
     "name": "stdin",
     "output_type": "stream",
     "text": [
      "Pick a number  1\n",
      "Pick a number  2\n",
      "Pick a number  3\n",
      "Pick a number  1\n",
      "Pick a number  2\n",
      "Pick a number  5\n"
     ]
    },
    {
     "name": "stdout",
     "output_type": "stream",
     "text": [
      "Please pick a valid option!\n"
     ]
    },
    {
     "name": "stdin",
     "output_type": "stream",
     "text": [
      "Pick a number  3\n",
      "Pick a number  1\n",
      "Pick a number  2\n",
      "Pick a number  1\n"
     ]
    }
   ],
   "source": [
    "import string\n",
    "import random\n",
    "\n",
    "# Getting password length\n",
    "length = int(input(\"Enter password length: \"))\n",
    "\n",
    "print('''Choose character set for password from these : \n",
    "\t\t1. Digits\n",
    "\t\t2. Letters\n",
    "\t\t3. Special characters\n",
    "\t\t4. Exit''')\n",
    "\n",
    "characterList = \"\"\n",
    "\n",
    "# Getting character set for password\n",
    "while(True):\n",
    "\tchoice = int(input(\"Pick a number \"))\n",
    "\tif(choice == 1):\n",
    "\t\t\n",
    "\t\t# Adding letters to possible characters\n",
    "\t\tcharacterList += string.ascii_letters\n",
    "\telif(choice == 2):\n",
    "\t\t\n",
    "\t\t# Adding digits to possible characters\n",
    "\t\tcharacterList += string.digits\n",
    "\telif(choice == 3):\n",
    "\t\t\n",
    "\t\t# Adding special characters to possible\n",
    "\t\t# characters\n",
    "\t\tcharacterList += string.punctuation\n",
    "\telif(choice == 4):\n",
    "\t\tbreak\n",
    "\telse:\n",
    "\t\tprint(\"Please pick a valid option!\")\n",
    "\n",
    "password = []\n",
    "\n",
    "for i in range(length):\n",
    "\n",
    "\t# Picking a random character from our \n",
    "\t# character list\n",
    "\trandomchar = random.choice(characterList)\n",
    "\t\n",
    "\t# appending a random character to password\n",
    "\tpassword.append(randomchar)\n",
    "\n",
    "# printing password as a string\n",
    "print(\"The random password is \" + \"\".join(password))\n"
   ]
  },
  {
   "cell_type": "code",
   "execution_count": null,
   "id": "86fd5f33-95dc-432f-b0db-91aa2286fed2",
   "metadata": {},
   "outputs": [],
   "source": [
    "# import modules\n",
    "import string\n",
    "import random\n",
    "\n",
    "\n",
    "# store all characters in lists \n",
    "s1 = list(string.ascii_lowercase)\n",
    "s2 = list(string.ascii_uppercase)\n",
    "s3 = list(string.digits)\n",
    "s4 = list(string.punctuation)\n",
    "\n",
    "\n",
    "# Ask user about the number of characters\n",
    "user_input = input(\"How many characters do you want in your password? \")\n",
    "\n",
    "\n",
    "# check this input is it number? is it more than 8?\n",
    "while True:\n",
    "\n",
    "\ttry:\n",
    "\n",
    "\t\tcharacters_number = int(user_input)\n",
    "\n",
    "\t\tif characters_number < 8:\n",
    "\n",
    "\t\t\tprint(\"Your number should be at least 8.\")\n",
    "\n",
    "\t\t\tuser_input = input(\"Please, Enter your number again: \")\n",
    "\n",
    "\t\telse:\n",
    "\n",
    "\t\t\tbreak\n",
    "\n",
    "\texcept:\n",
    "\n",
    "\t\tprint(\"Please, Enter numbers only.\")\n",
    "\n",
    "\t\tuser_input = input(\"How many characters do you want in your password? \")\n",
    "\n",
    "\n",
    "# shuffle all lists\n",
    "random.shuffle(s1)\n",
    "random.shuffle(s2)\n",
    "random.shuffle(s3)\n",
    "random.shuffle(s4)\n",
    "\n",
    "\n",
    "# calculate 30% & 20% of number of characters\n",
    "part1 = round(characters_number * (30/100))\n",
    "part2 = round(characters_number * (20/100))\n",
    "\n",
    "\n",
    "# generation of the password (60% letters and 40% digits & punctuations)\n",
    "result = []\n",
    "\n",
    "for x in range(part1):\n",
    "\n",
    "\tresult.append(s1[x])\n",
    "\tresult.append(s2[x])\n",
    "\n",
    "for x in range(part2):\n",
    "\n",
    "\tresult.append(s3[x])\n",
    "\tresult.append(s4[x])\n",
    "\n",
    "\n",
    "# shuffle result\n",
    "random.shuffle(result)\n",
    "\n",
    "\n",
    "# join result\n",
    "password = \"\".join(result)\n",
    "print(\"Strong Password: \", password)\n"
   ]
  },
  {
   "cell_type": "markdown",
   "id": "5b4a8405-e7e0-4e4d-9056-a4a282e2b781",
   "metadata": {},
   "source": []
  }
 ],
 "metadata": {
  "kernelspec": {
   "display_name": "Python 3 (ipykernel)",
   "language": "python",
   "name": "python3"
  },
  "language_info": {
   "codemirror_mode": {
    "name": "ipython",
    "version": 3
   },
   "file_extension": ".py",
   "mimetype": "text/x-python",
   "name": "python",
   "nbconvert_exporter": "python",
   "pygments_lexer": "ipython3",
   "version": "3.12.4"
  }
 },
 "nbformat": 4,
 "nbformat_minor": 5
}
