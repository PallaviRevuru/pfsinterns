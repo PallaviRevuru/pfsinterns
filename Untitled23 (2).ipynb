{
 "cells": [
  {
   "cell_type": "code",
   "execution_count": 1,
   "id": "ee950987-a1fe-41a3-ab3d-11b3fffb5ded",
   "metadata": {},
   "outputs": [
    {
     "name": "stdin",
     "output_type": "stream",
     "text": [
      "Enter city name:  Delhi\n"
     ]
    },
    {
     "name": "stdout",
     "output_type": "stream",
     "text": [
      "Weather data not available.\n"
     ]
    }
   ],
   "source": [
    "# import required modules\n",
    "import requests, json\n",
    "\n",
    "# Enter your API key here\n",
    "api_key = \"Your_API_Key\"  # Replace with your actual API key\n",
    "\n",
    "# base_url variable to store url\n",
    "base_url = \"http://api.openweathermap.org/data/2.5/weather?\"\n",
    "\n",
    "# Give city name\n",
    "city_name = input(\"Enter city name: \")\n",
    "\n",
    "# complete_url variable to store complete url address\n",
    "complete_url = base_url + \"appid=\" + api_key + \"&q=\" + city_name\n",
    "\n",
    "# get method of requests module returns response object\n",
    "response = requests.get(complete_url)\n",
    "\n",
    "# json method of response object converts JSON format data into Python dictionary\n",
    "x = response.json()\n",
    "\n",
    "# Check if city is found by examining the value of the \"cod\" key\n",
    "if x.get(\"cod\") != \"404\":\n",
    "    \n",
    "    # Safely get \"main\" dictionary\n",
    "    y = x.get(\"main\", None)\n",
    "    \n",
    "    if y:\n",
    "        # Store temperature, pressure, and humidity values\n",
    "        current_temperature = y.get(\"temp\", \"N/A\")\n",
    "        current_pressure = y.get(\"pressure\", \"N/A\")\n",
    "        current_humidity = y.get(\"humidity\", \"N/A\")\n",
    "        \n",
    "        # Convert temperature from Kelvin to Celsius\n",
    "        if isinstance(current_temperature, (int, float)):\n",
    "            current_temperature_celsius = current_temperature - 273.15\n",
    "        else:\n",
    "            current_temperature_celsius = \"N/A\"\n",
    "        \n",
    "    # Safely get \"weather\" list\n",
    "    z = x.get(\"weather\", None)\n",
    "    \n",
    "    if z:\n",
    "        # Store weather description from the first element in the list\n",
    "        weather_description = z[0].get(\"description\", \"N/A\")\n",
    "    \n",
    "        # Print the weather details\n",
    "        print(f\"Temperature: {current_temperature_celsius:.2f} °C\")\n",
    "        print(f\"Atmospheric pressure: {current_pressure} hPa\")\n",
    "        print(f\"Humidity: {current_humidity}%\")\n",
    "        print(f\"Description: {weather_description}\")\n",
    "    else:\n",
    "        print(\"Weather data not available.\")\n",
    "else:\n",
    "    print(\"City not found.\")\n"
   ]
  },
  {
   "cell_type": "code",
   "execution_count": null,
   "id": "39faee29-45cb-40d0-9e07-0c905c4f4df8",
   "metadata": {},
   "outputs": [],
   "source": []
  }
 ],
 "metadata": {
  "kernelspec": {
   "display_name": "Python 3 (ipykernel)",
   "language": "python",
   "name": "python3"
  },
  "language_info": {
   "codemirror_mode": {
    "name": "ipython",
    "version": 3
   },
   "file_extension": ".py",
   "mimetype": "text/x-python",
   "name": "python",
   "nbconvert_exporter": "python",
   "pygments_lexer": "ipython3",
   "version": "3.12.4"
  }
 },
 "nbformat": 4,
 "nbformat_minor": 5
}
